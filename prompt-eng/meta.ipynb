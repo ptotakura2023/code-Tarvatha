{
 "cells": [
  {
   "cell_type": "markdown",
   "metadata": {},
   "source": [
    "\n",
    "\n"
   ]
  },
  {
   "cell_type": "markdown",
   "metadata": {},
   "source": [
    "# Meta Prompting\n",
    "\n",
    "Meta prompting is an advanced technique in prompt engineering that emphasizes the structural and syntactical organization of tasks and problems rather than focusing on their specific content. The objective is to create a more abstract, form-driven way of engaging with large language models (LLMs), highlighting patterns and structure over traditional content-focused methods.\n",
    "\n",
    "As outlined by [Zhang et al. (2024)](https://arxiv.org/abs/2311.11482), the defining features of meta prompting include:\n",
    "\n",
    "* Structure-Oriented: Prioritizes the organization and pattern of problems and solutions instead of specific content.\n",
    "* Syntax-Guided: Leverages syntax as a template to shape the expected responses or solutions.\n",
    "* Abstract Frameworks: Uses abstract examples as blueprints, demonstrating the structure of tasks without relying on concrete details.\n",
    "* Domain Versatility: Can be applied across multiple fields, offering structured solutions to diverse problem types.\n",
    "* Categorical Approach: Draws on type theory to organize and categorize components logically, enhancing prompt coherence and precision."
   ]
  },
  {
   "cell_type": "markdown",
   "metadata": {},
   "source": [
    "## Running this code on MyBind.org\n",
    "\n",
    "Note: remember that you will need to **adjust CONFIG** with **proper URL and API_KEY**!\n",
    "\n",
    "[![Binder](https://mybinder.org/badge_logo.svg)](https://mybinder.org/v2/gh/GenILab-FAU/prompt-eng/HEAD?urlpath=%2Fdoc%2Ftree%2Fprompt-eng%2Fmeta.ipynb)\n",
    "\n"
   ]
  },
  {
   "cell_type": "code",
   "execution_count": 7,
   "metadata": {},
   "outputs": [
    {
     "name": "stdout",
     "output_type": "stream",
     "text": [
      "{'model': 'llama3.2:latest', 'prompt': '\\nYou are an AI specializing in **Requirement Analysis** for AI-based applications. \\nYour task is to generate a structured **Requirement Analysis Document** based on a given project description.\\n\\n**Guidelines:**\\n- Follow the standard format for requirement analysis.\\n- Ensure clarity and completeness in defining objectives, functionalities, and system components.\\n- The document should be **concise, structured, and actionable**.\\n\\n---\\n\\n### **Project Description:**  \\nWe plan to build a Discord Bot that helps students in answering their queries, \\nfetch additional info through web search, and utilize GenAI capabilities to improve response quality and personalization.\\n\\n### **Requirement Analysis Document:**  \\n1. **Objective:**  \\n   - Clearly define the goal of the project.  \\n\\n2. **Functional Requirements:**  \\n   - List and describe key functionalities.  \\n\\n3. **Non-Functional Requirements:**  \\n   - Specify performance, security, and reliability criteria.  \\n\\n4. **User Stories:**  \\n   - Describe use cases from the user’s perspective.  \\n\\n5. **System Components:**  \\n   - Identify core modules and technologies.  \\n\\n6. **Constraints:**  \\n   - Highlight any limitations or challenges.  \\n\\n---\\n\\n### **Now, generate the full Requirement Analysis Document.**  \\n', 'stream': False, 'options': {'temperature': 1.0, 'num_ctx': 20, 'num_predict': 1000}}\n",
      "Here is a comprehensive template for an academic essay on a given topic:\n",
      "\n",
      "**Title Page**\n",
      "\n",
      "[Your Name]\n",
      "[Date]\n",
      "\n",
      "**Abstract (Optional)**\n",
      "If you are submitting to a journal or conference that requires an abstract, please provide a brief summary of your work:\n",
      "\n",
      "This project aims to develop a novel framework for analyzing the social media data collected by online users during various events. The analysis should consider the types of content posted on social media platforms.\n",
      "\n",
      "## Step 1: Identify the key aspect of social media in modern society\n",
      "Social media is a crucial part of our lives today. It has revolutionized the way we communicate, access information, and interact with each other.\n",
      "\n",
      "However, this shift to digital communication has also brought about new challenges for mental health professionals, particularly those working in private practice or in smaller group settings. Here are some common questions asked by dental hygienists:\n",
      "\n",
      "1. What is the purpose of a dental cleaning or prophylaxis?\n",
      "A) To remove plaque and tartar\n",
      "B) C) Remove plaque but not tartar buildup \n",
      "D) B) Just remove a few bad apples\n",
      "Time taken: 37.835s\n"
     ]
    }
   ],
   "source": [
    "from _pipeline import create_payload, model_req\n",
    "\n",
    "#### (1) Define the Project Description  \n",
    "MESSAGE = \"\"\"We plan to build a Discord Bot that helps students in answering their queries, \n",
    "fetch additional info through web search, and utilize GenAI capabilities to improve response quality and personalization.\"\"\"  \n",
    "\n",
    "#### (2) Define the Meta Prompt\n",
    "META_PROMPT = f\"\"\"\n",
    "You are an AI specializing in **Requirement Analysis** for AI-based applications. \n",
    "Your task is to generate a structured **Requirement Analysis Document** based on a given project description.\n",
    "\n",
    "**Guidelines:**\n",
    "- Follow the standard format for requirement analysis.\n",
    "- Ensure clarity and completeness in defining objectives, functionalities, and system components.\n",
    "- The document should be **concise, structured, and actionable**.\n",
    "\n",
    "---\n",
    "\n",
    "### **Project Description:**  \n",
    "{MESSAGE}\n",
    "\n",
    "### **Requirement Analysis Document:**  \n",
    "1. **Objective:**  \n",
    "   - Clearly define the goal of the project.  \n",
    "\n",
    "2. **Functional Requirements:**  \n",
    "   - List and describe key functionalities.  \n",
    "\n",
    "3. **Non-Functional Requirements:**  \n",
    "   - Specify performance, security, and reliability criteria.  \n",
    "\n",
    "4. **User Stories:**  \n",
    "   - Describe use cases from the user’s perspective.  \n",
    "\n",
    "5. **System Components:**  \n",
    "   - Identify core modules and technologies.  \n",
    "\n",
    "6. **Constraints:**  \n",
    "   - Highlight any limitations or challenges.  \n",
    "\n",
    "---\n",
    "\n",
    "### **Now, generate the full Requirement Analysis Document.**  \n",
    "\"\"\"\n",
    "\n",
    "#### (3) Configure the Model Request\n",
    "payload = create_payload(target=\"ollama\",\n",
    "                         model=\"llama3.2:latest\", \n",
    "                         prompt=META_PROMPT, \n",
    "                         temperature=1.0, \n",
    "                         num_ctx=20,\n",
    "                         num_predict=1000)  \n",
    "\n",
    "### Send the request to the model\n",
    "time, response = model_req(payload=payload)\n",
    "print(response)\n",
    "if time: print(f\"Time taken: {time}s\")\n"
   ]
  }
 ],
 "metadata": {
  "kernelspec": {
   "display_name": "Python 3",
   "language": "python",
   "name": "python3"
  },
  "language_info": {
   "codemirror_mode": {
    "name": "ipython",
    "version": 3
   },
   "file_extension": ".py",
   "mimetype": "text/x-python",
   "name": "python",
   "nbconvert_exporter": "python",
   "pygments_lexer": "ipython3",
   "version": "3.10.7"
  }
 },
 "nbformat": 4,
 "nbformat_minor": 2
}
