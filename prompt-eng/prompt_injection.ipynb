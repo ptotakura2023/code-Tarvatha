{
 "cells": [
  {
   "cell_type": "code",
   "execution_count": 2,
   "metadata": {},
   "outputs": [
    {
     "name": "stdout",
     "output_type": "stream",
     "text": [
      "{'model': 'llama3.2:latest', 'prompt': '\\nInstruction: Please provide a detailed explanation followed by a summary and study recommendation.\\nProject: Project Description: We plan to build a Study Companion Bot to help students learn better by answering their queries and providing study tips.\\nQuestion: How does the bot help students learn effectively?\\nAnswer:\\n', 'stream': False, 'options': {'temperature': 1.0, 'num_ctx': 100, 'num_predict': 1000}}\n",
      "**Detailed Explanation**\n",
      "\n",
      "The Study Companion Bot is designed to aid students in learning effectively by leveraging AI-powered technology. Here are some ways the bot can assist:\n",
      "\n",
      "1. **Query Answering**: The bot can understand and respond to a student's queries on various subjects, including math, science, history, and more. By providing accurate and concise answers, the bot helps students clarify their doubts and understand complex concepts.\n",
      "2. **Personalized Learning**: Based on the student's performance and progress, the bot can offer personalized recommendations for practice exercises, quizzes, or topics to focus on. This tailored approach ensures that students receive exactly what they need to improve their skills.\n",
      "3. **Real-time Feedback**: The bot provides immediate feedback on answers, highlighting mistakes and suggesting correct alternatives. This instant feedback helps students learn from their errors and build confidence in their problem-solving abilities.\n",
      "4. **Personalized Learning Paths**: Each student's learning journey is unique, with the bot adapting to individual strengths, weaknesses, and interests. By recognizing patterns and adjusting its guidance accordingly, the system creates a tailored approach that fosters meaningful progress and engagement.\n",
      "5. **Real-Time Feedback**: The bot provides instant feedback, helping students stay on track, identify areas for improvement, and develop a growth mindset. This timely support enables learners to adapt, adjust, and thrive in their academic journey.\n",
      "\n",
      "By harnessing the power of AI-driven technology, education can become more accessible, personalized, and effective. The intelligent tutoring system's adaptive nature ensures that each student receives tailored guidance, fostering a culture of inclusivity and empowerment. As we continue to navigate the complexities of modern learning, embracing innovative solutions like this one is crucial for shaping the next generation of thinkers, creatives, and leaders.\n",
      "Time taken: 51.891s\n"
     ]
    }
   ],
   "source": [
    "##\n",
    "## PROMPT INJECTION\n",
    "##\n",
    "\n",
    "from _pipeline import create_payload, model_req\n",
    "\n",
    "\n",
    "#### (1) Adjust the inbounding Prompt, simulating inbounding requests from users or other systems\n",
    "MESSAGE = \"Project Description: We plan to build a Study Companion Bot to help students learn better by answering their queries and providing study tips.\"\n",
    "\n",
    "#### (2) Adjust the Prompt Engineering Technique to be applied, simulating Workflow Templates\n",
    "INJECTED_PROMPT = \\\n",
    "f\"\"\"\n",
    "Instruction: Please provide a detailed explanation followed by a summary and study recommendation.\n",
    "Project: {MESSAGE}\n",
    "Question: How does the bot help students learn effectively?\n",
    "Answer:\n",
    "\"\"\"\n",
    "\n",
    "PROMPT = INJECTED_PROMPT\n",
    "\n",
    "#### (3) Configure the Model request, simulating Workflow Orchestration\n",
    "# Documentation: https://github.com/ollama/ollama/blob/main/docs/api.md\n",
    "payload = create_payload(target=\"ollama\",\n",
    "                         model=\"llama3.2:latest\", \n",
    "                         prompt=PROMPT, \n",
    "                         temperature=1.0, \n",
    "                         num_ctx=100, \n",
    "                         num_predict=1000)\n",
    "\n",
    "### YOU DONT NEED TO CONFIGURE ANYTHING ELSE FROM THIS POINT\n",
    "# Send out to the model\n",
    "time, response = model_req(payload=payload)\n",
    "print(response)\n",
    "if time: print(f'Time taken: {time}s')\n"
   ]
  },
  {
   "cell_type": "code",
   "execution_count": null,
   "metadata": {},
   "outputs": [],
   "source": []
  }
 ],
 "metadata": {
  "kernelspec": {
   "display_name": "Python 3",
   "language": "python",
   "name": "python3"
  },
  "language_info": {
   "codemirror_mode": {
    "name": "ipython",
    "version": 3
   },
   "file_extension": ".py",
   "mimetype": "text/x-python",
   "name": "python",
   "nbconvert_exporter": "python",
   "pygments_lexer": "ipython3",
   "version": "3.10.7"
  }
 },
 "nbformat": 4,
 "nbformat_minor": 2
}
