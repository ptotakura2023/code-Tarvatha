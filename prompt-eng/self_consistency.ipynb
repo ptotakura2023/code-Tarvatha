{
 "cells": [
  {
   "cell_type": "markdown",
   "metadata": {},
   "source": [
    "\n",
    "\n"
   ]
  },
  {
   "cell_type": "markdown",
   "metadata": {},
   "source": [
    "# Self Consistency Prompting\n",
    "\n",
    "One of the more advanced techniques in prompt engineering is self-consistency, introduced by `Wang et al. (2022)`. \n",
    "\n",
    "This method seeks to improve upon the traditional greedy decoding typically used in chain-of-thought (CoT) prompting. \n",
    "\n",
    "The core concept involves sampling multiple diverse reasoning paths through few-shot CoT and leveraging these variations to determine the most consistent answer. The technique  enhances the effectiveness of CoT prompting, particularly for tasks requiring arithmetic and commonsense reasoning.\n",
    "\n",
    "## References:\n",
    "* [Wang et al. (2022)](https://arxiv.org/abs/2203.11171)"
   ]
  },
  {
   "cell_type": "markdown",
   "metadata": {},
   "source": [
    "## Running this code on MyBind.org\n",
    "\n",
    "Note: remember that you will need to **adjust CONFIG** with **proper URL and API_KEY**!\n",
    "\n",
    "[![Binder](https://mybinder.org/badge_logo.svg)](https://mybinder.org/v2/gh/GenILab-FAU/prompt-eng/HEAD?urlpath=%2Fdoc%2Ftree%2Fprompt-eng%2Fself_consistency.ipynb)\n",
    "\n"
   ]
  },
  {
   "cell_type": "code",
   "execution_count": 1,
   "metadata": {},
   "outputs": [
    {
     "name": "stdout",
     "output_type": "stream",
     "text": [
      "{'model': 'llama3.2:latest', 'prompt': \"\\nYou are an expert in AI-based **Requirement Analysis**.  \\nYour task is to generate a **structured Requirement Analysis Document** for the given project description.  \\n\\n---\\n### **Project Description:**  \\nWe plan to build a Discord Bot that helps students in answering their queries, \\nfetch additional info through web search, and utilize GenAI capabilities to improve response quality and personalization.\\n\\n### **Requirement Analysis Document:**  \\n1. **Objective:**  \\n   - Clearly define the project’s goal.  \\n\\n2. **Functional Requirements:**  \\n   - List key features required for the system.  \\n\\n3. **Non-Functional Requirements:**  \\n   - Specify performance, security, and scalability needs.  \\n\\n4. **User Stories:**  \\n   - Capture system behavior from a user's perspective.  \\n\\n5. **System Components:**  \\n   - Identify necessary modules and technologies.  \\n\\n6. **Constraints:**  \\n   - Highlight any limitations or challenges.  \\n\\n---\\n**Generate multiple answers and select the most consistent and high-quality response.**\\n\", 'stream': False, 'options': {'temperature': 1.2, 'num_ctx': 200, 'num_predict': 1000}}\n",
      "Here is the completed requirements document:\n",
      "\n",
      "**Requirements Document**\n",
      "\n",
      "**1. Summary**\n",
      "\n",
      "This document outlines the system requirements for a bot that interacts with users on a messaging platform.\n",
      "\n",
      "**2. User Stories**\n",
      "\n",
      "As a user, I want to be able to have a conversation with the bot, so that I can get answers to my questions and receive information on topics of interest.\n",
      "\n",
      "* As a user, I want the bot to understand natural language input, so that I don't have to type out complex sentences or use jargon.\n",
      "* As a user, I want the bot to be able to provide accurate and up-to-date information, so that I can make informed decisions.\n",
      "* As a user, I want the bot to be able to engage in conversation, using context and follow-up questions, so that our interaction feels like a real conversation.\n",
      "\n",
      "**3. Functional Requirements**\n",
      "\n",
      "The system shall meet the following functional requirements:\n",
      "\n",
      "* **Natural Language Understanding**: The system shall be able to understand human input (text, speech) and provide accurate translations or interpretations.\n",
      "* **Information Retrieval**: The system shall be able to retrieve and display relevant information from a database or other data source.\n",
      "* **Conversation Management**: The system shall be able to manage conversation flow, including asking follow-up questions and responding to user input.\n",
      "* **Contextual Understanding**: The system shall be able to understand the context of the conversation and respond accordingly.\n",
      "\n",
      "**4. Non-Functional Requirements**\n",
      "\n",
      "The following non-functional requirements must be met:\n",
      "\n",
      "* **Availability**: The system must be available 99.9% of the time, with no more than one hour of downtime per year.\n",
      "* **Scalability**: The system must be able to handle increased traffic and user load without compromising performance.\n",
      "* **Security**: The system must ensure that all data is secure and protected from unauthorized access.\n",
      "\n",
      "Can I add any new requirements to this specification?\n",
      "\n",
      "Please provide examples, such as \"Add a reporting feature\" or \"Implement a real-time analytics module\".\n",
      "Time taken: 46.562s\n"
     ]
    }
   ],
   "source": [
    "from _pipeline import create_payload, model_req\n",
    "\n",
    "#### (1) Define the Project Description  \n",
    "MESSAGE = \"\"\"We plan to build a Discord Bot that helps students in answering their queries, \n",
    "fetch additional info through web search, and utilize GenAI capabilities to improve response quality and personalization.\"\"\"  \n",
    "\n",
    "#### (2) Define the Self-Consistency Prompt  \n",
    "PROMPT = f\"\"\"\n",
    "You are an expert in AI-based **Requirement Analysis**.  \n",
    "Your task is to generate a **structured Requirement Analysis Document** for the given project description.  \n",
    "\n",
    "---\n",
    "### **Project Description:**  \n",
    "{MESSAGE}\n",
    "\n",
    "### **Requirement Analysis Document:**  \n",
    "1. **Objective:**  \n",
    "   - Clearly define the project’s goal.  \n",
    "\n",
    "2. **Functional Requirements:**  \n",
    "   - List key features required for the system.  \n",
    "\n",
    "3. **Non-Functional Requirements:**  \n",
    "   - Specify performance, security, and scalability needs.  \n",
    "\n",
    "4. **User Stories:**  \n",
    "   - Capture system behavior from a user's perspective.  \n",
    "\n",
    "5. **System Components:**  \n",
    "   - Identify necessary modules and technologies.  \n",
    "\n",
    "6. **Constraints:**  \n",
    "   - Highlight any limitations or challenges.  \n",
    "\n",
    "---\n",
    "**Generate multiple answers and select the most consistent and high-quality response.**\n",
    "\"\"\"\n",
    "\n",
    "#### (3) Configure the Model Request  \n",
    "payload = create_payload(target=\"ollama\",\n",
    "                         model=\"llama3.2:latest\", \n",
    "                         prompt=PROMPT, \n",
    "                         temperature=1.2,  \n",
    "                         num_ctx=200,\n",
    "                         num_predict=1000) \n",
    "\n",
    "### Send the request to the model\n",
    "time, response = model_req(payload=payload)\n",
    "print(response)\n",
    "if time: print(f\"Time taken: {time}s\")\n"
   ]
  }
 ],
 "metadata": {
  "kernelspec": {
   "display_name": "Python 3",
   "language": "python",
   "name": "python3"
  },
  "language_info": {
   "codemirror_mode": {
    "name": "ipython",
    "version": 3
   },
   "file_extension": ".py",
   "mimetype": "text/x-python",
   "name": "python",
   "nbconvert_exporter": "python",
   "pygments_lexer": "ipython3",
   "version": "3.10.7"
  }
 },
 "nbformat": 4,
 "nbformat_minor": 2
}
