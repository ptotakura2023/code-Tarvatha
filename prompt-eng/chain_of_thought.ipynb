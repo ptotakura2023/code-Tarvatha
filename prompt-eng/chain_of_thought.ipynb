{
 "cells": [
  {
   "cell_type": "markdown",
   "metadata": {},
   "source": [
    "\n",
    "\n"
   ]
  },
  {
   "cell_type": "markdown",
   "metadata": {},
   "source": [
    "# Chain-of-Thought Prompting\n",
    "\n",
    "Chain-of-Thought (CoT) prompting enhances complex reasoning by encouraging the model to break down problems into intermediate reasoning steps. When combined with few-shot prompting, it can significantly improve performance on tasks that require multi-step reasoning before arriving at a response.\n",
    "\n",
    "## Automatic Chain-of-Thought (Auto-CoT)\n",
    "\n",
    "Traditionally, using CoT prompting with demonstrations involves manually crafting diverse and effective examples. This manual effort is time-consuming and can lead to less-than-optimal results. To address this, Zhang et al. (2022) introduced Auto-CoT, an automated approach that minimizes manual involvement. Their method uses the prompt “Let’s think step by step” to generate reasoning chains automatically for demonstrations. However, this automatic process is not immune to errors. To reduce the impact of such mistakes, the approach emphasizes the importance of diverse demonstrations.\n",
    "\n",
    "Auto-CoT operates in two main stages:\n",
    "\n",
    "1. **Question Clustering:** Questions from the dataset are grouped into clusters based on similarity or relevance.\n",
    "2. **Demonstration Sampling:** A representative question from each cluster is selected, and its reasoning chain is generated using Zero-Shot-CoT guided by simple heuristics.\n",
    "\n",
    "\n",
    "## References:\n",
    "\n",
    "* (Wei et al. (2022),)[https://arxiv.org/abs/2201.11903]\n",
    "* (OpenAI Documentation for Prompt Engineering)[https://platform.openai.com/docs/guides/prompt-engineering]"
   ]
  },
  {
   "cell_type": "markdown",
   "metadata": {},
   "source": [
    "## Running this code on MyBind.org\n",
    "\n",
    "Note: remember that you will need to **adjust CONFIG** with **proper URL and API_KEY**!\n",
    "\n",
    "[![Binder](https://mybinder.org/badge_logo.svg)](https://mybinder.org/v2/gh/GenILab-FAU/prompt-eng/HEAD?urlpath=%2Fdoc%2Ftree%2Fprompt-eng%2Fchain_of_thought.ipynb)\n"
   ]
  },
  {
   "cell_type": "code",
   "execution_count": 10,
   "metadata": {},
   "outputs": [
    {
     "name": "stdout",
     "output_type": "stream",
     "text": [
      "{'model': 'llama3.2:latest', 'prompt': '\\nAct as an experienced business analyst specializing in preparing requirement analysis document\\nAnalyze the project requirements defined in $Project Description: We plan to build a Discord Bot that helps students in answering their queries, fetch additional info through web search, Utilize GenAI capabilities to improve response quality and personalization and give a detailed requirement analysis document by thinking step by step through:\\n\\nWhat are the detailed requirements and specifications?\\nHow should it work technically within the platform?\\nWhat limitations must be addressed?\\nHow will implementation look in practice?\\n\\n\\nNon-functional requirements (performance, security, reliability, usability)\\nTechnical constraints within the intended environment\\nIntegration requirements with external services\\nSuccess metrics for measuring educational effectiveness\\nPotential risks and mitigation strategies\\nScalability considerations as usage expands\\nRecommended implementation phases with clear milestones\\n\\nFor each point, provide detailed requirement analysis document.\\n', 'stream': False, 'options': {'temperature': 1.0, 'num_ctx': 100, 'num_predict': 500}}\n",
      "Here is a detailed requirement analysis document for each of the points mentioned:\n",
      "\n",
      "**1. Detailed Requirements for Educational Content**\n",
      "\n",
      "**Document Title:** Educational Content Requirements Document (ECRD)\n",
      "\n",
      "**Introduction:**\n",
      "The goal of this document is to outline the requirements for developing and maintaining high-quality educational content that aligns with our curriculum standards.\n",
      "\n",
      "**Scope:**\n",
      "This document applies to all developers, writers, and designers responsible for creating educational content for our platform.\n",
      "\n",
      "**Objectives:**\n",
      "\n",
      "* Develop educational content that meets learning objectives and standards\n",
      "* Ensure accuracy, relevance, and timeliness of the content\n",
      "* Create engaging, interactive, and accessible learning experiences\n",
      "\n",
      "**Responsibilities:**\n",
      "\n",
      "* Developers: Provide a user-friendly interface, ensure compatibility with various devices, and implement multimedia elements.\n",
      "* Writers/Authors: Research, write high-quality content that meets educational standards, and collaborate with designers.\n",
      "* Designers: Collaborate with writers to create visually appealing and engaging layouts.\n",
      "\n",
      "A few examples of what I could explore are:\n",
      "\n",
      "*   **Educational websites**: Platforms like Khan Academy or Coursera showcase the potential for creating accessible and interactive learning experiences. These sites often incorporate various multimedia elements, such as videos, quizzes, and games.\n",
      "*     **Online educational platforms for children**: Websites like Code.org or Tynker offer coding lessons designed specifically for young students. They often include engaging activities and visualizations to help kids grasp complex concepts.\n",
      "\n",
      "Some key characteristics of successful online learning resources include:\n",
      "\n",
      "1.  **Interactive experiences**: Incorporating features like animations, videos, and quizzes can make complex concepts more accessible and enjoyable.\n",
      "2.  **Clear explanations**: Using simple language and providing examples or analogies can help learners understand abstract ideas better.\n",
      "3.  **Personalization options**: Allowing users to adjust the difficulty level or pace of their learning experience can increase engagement and motivation.\n",
      "4.  **Feedback mechanisms**: Incorporating quizzes, assessments, or discussion forums can help learners track their progress and identify areas for improvement.\n",
      "\n",
      "By incorporating these elements, online learning platforms can create a more engaging and effective educational experience for students.\n",
      "Time taken: 73.527s\n"
     ]
    }
   ],
   "source": [
    "##\n",
    "## CHAIN-OF-THOUGHT  PROMPTING\n",
    "##\n",
    "\n",
    "from _pipeline import create_payload, model_req\n",
    "\n",
    "\n",
    "#### (1) Adjust the inbounding  Prompt, simulating inbounding requests from users or other systems\n",
    "MESSAGE = \"Project Description: We plan to build a Discord Bot that helps students in answering their queries, fetch additional info through web search, Utilize GenAI capabilities to improve response quality and personalization\"\n",
    "\n",
    "#### (2) Adjust the Prompt Engineering Technique to be applied, simulating Workflow Templates\n",
    "CHAIN_OF_THOUGHT = \\\n",
    "f\"\"\"\n",
    "Act as an experienced business analyst specializing in preparing requirement analysis document\n",
    "Analyze the project requirements defined in ${MESSAGE} and give a detailed requirement analysis document by thinking step by step through:\n",
    "\n",
    "What are the detailed requirements and specifications?\n",
    "How should it work technically within the platform?\n",
    "What limitations must be addressed?\n",
    "How will implementation look in practice?\n",
    "\n",
    "\n",
    "Non-functional requirements (performance, security, reliability, usability)\n",
    "Technical constraints within the intended environment\n",
    "Integration requirements with external services\n",
    "Success metrics for measuring educational effectiveness\n",
    "Potential risks and mitigation strategies\n",
    "Scalability considerations as usage expands\n",
    "Recommended implementation phases with clear milestones\n",
    "\n",
    "For each point, provide detailed requirement analysis document.\n",
    "\"\"\"\n",
    "\n",
    "PROMPT = CHAIN_OF_THOUGHT \n",
    "\n",
    "#### (3) Configure the Model request, simulating Workflow Orchestration\n",
    "# Documentation: https://github.com/ollama/ollama/blob/main/docs/api.md\n",
    "payload = create_payload(target=\"ollama\",\n",
    "                         model=\"llama3.2:latest\", \n",
    "                         prompt=PROMPT, \n",
    "                         temperature=1.0, \n",
    "                         num_ctx=10, \n",
    "                         num_predict=500)\n",
    "\n",
    "### YOU DONT NEED TO CONFIGURE ANYTHING ELSE FROM THIS POINT\n",
    "# Send out to the model\n",
    "time, response = model_req(payload=payload)\n",
    "print(response)\n",
    "if time: print(f'Time taken: {time}s')"
   ]
  }
 ],
 "metadata": {
  "kernelspec": {
   "display_name": "Python 3",
   "language": "python",
   "name": "python3"
  },
  "language_info": {
   "codemirror_mode": {
    "name": "ipython",
    "version": 3
   },
   "file_extension": ".py",
   "mimetype": "text/x-python",
   "name": "python",
   "nbconvert_exporter": "python",
   "pygments_lexer": "ipython3",
   "version": "3.10.7"
  }
 },
 "nbformat": 4,
 "nbformat_minor": 2
}
